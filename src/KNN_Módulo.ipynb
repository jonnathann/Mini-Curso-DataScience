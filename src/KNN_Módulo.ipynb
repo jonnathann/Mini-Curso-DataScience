{
 "cells": [
  {
   "cell_type": "code",
   "execution_count": 8,
   "metadata": {},
   "outputs": [],
   "source": [
    "def soma(x, y):\n",
    "    result = x + y\n",
    "    return x, y, result\n",
    "    "
   ]
  },
  {
   "cell_type": "code",
   "execution_count": 9,
   "metadata": {},
   "outputs": [
    {
     "name": "stdout",
     "output_type": "stream",
     "text": [
      "A soma de 3 com o valor 4 é igual ao valor 7\n"
     ]
    }
   ],
   "source": [
    "valor_x, valor_y, soma_result = soma(3, 4)\n",
    "print('A soma de', valor_x, 'com o valor', valor_y, 'é igual ao valor', soma_result)"
   ]
  }
 ],
 "metadata": {
  "kernelspec": {
   "display_name": "Python 3",
   "language": "python",
   "name": "python3"
  },
  "language_info": {
   "codemirror_mode": {
    "name": "ipython",
    "version": 3
   },
   "file_extension": ".py",
   "mimetype": "text/x-python",
   "name": "python",
   "nbconvert_exporter": "python",
   "pygments_lexer": "ipython3",
   "version": "3.7.4"
  }
 },
 "nbformat": 4,
 "nbformat_minor": 2
}
