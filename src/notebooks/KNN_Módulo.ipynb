{
 "cells": [
  {
   "cell_type": "markdown",
   "metadata": {},
   "source": [
    "### Importações importantes"
   ]
  },
  {
   "cell_type": "code",
   "execution_count": 6,
   "metadata": {},
   "outputs": [
    {
     "ename": "ValueError",
     "evalue": "attempted relative import beyond top-level package",
     "output_type": "error",
     "traceback": [
      "\u001b[0;31m---------------------------------------------------------------------------\u001b[0m",
      "\u001b[0;31mValueError\u001b[0m                                Traceback (most recent call last)",
      "\u001b[0;32m<ipython-input-6-6ad3c1ae9e63>\u001b[0m in \u001b[0;36m<module>\u001b[0;34m\u001b[0m\n\u001b[0;32m----> 1\u001b[0;31m \u001b[0;32mfrom\u001b[0m \u001b[0;34m.\u001b[0m\u001b[0;34m.\u001b[0m\u001b[0mmodels\u001b[0m \u001b[0;32mimport\u001b[0m \u001b[0mknn_classifier\u001b[0m\u001b[0;34m\u001b[0m\u001b[0;34m\u001b[0m\u001b[0m\n\u001b[0m",
      "\u001b[0;31mValueError\u001b[0m: attempted relative import beyond top-level package"
     ]
    }
   ],
   "source": [
    "from ..models import knn_classifier"
   ]
  },
  {
   "cell_type": "code",
   "execution_count": null,
   "metadata": {},
   "outputs": [],
   "source": [
    "import pandas as pd\n",
    "import numpy as np"
   ]
  },
  {
   "cell_type": "markdown",
   "metadata": {},
   "source": [
    "### Implementando código do K-Nearest Neighbors"
   ]
  },
  {
   "cell_type": "code",
   "execution_count": null,
   "metadata": {},
   "outputs": [],
   "source": [
    "data = [[3.9, 1], [2.6, 2], [3.7, 1], [8.9, 2], [10.5, 1], [11.6, 2]]\n",
    "data = pd.DataFrame(data, columns=['values', 'labels'])\n",
    "data"
   ]
  },
  {
   "cell_type": "code",
   "execution_count": null,
   "metadata": {},
   "outputs": [],
   "source": [
    "def votation(list_classes):\n",
    "    classes_uniques = np.unique(list_classes)\n",
    "    new_list = []\n",
    "    for cl in classes_uniques:\n",
    "        new_list.append([list_classes.count(cl), cl])\n",
    "    votation = max(new_list)\n",
    "    return votation[1]\n",
    "\n",
    "\n",
    "def KNeighborsClassifier(x_train, y_train, x_test, y_test, k = 1):\n",
    "    \n",
    "    if (k % 2) == 0:\n",
    "        k = k - 1\n",
    "    \n",
    "    elif (k <= 0):\n",
    "        print('Não é possível excutar o algoritmo com valores zeros ou menores do que zero')\n",
    "        print('O valor de k será setado para o valor 1')\n",
    "        k = 1\n",
    "    \n",
    "    classes_labels = []\n",
    "    for i in range(len(x_test)):\n",
    "        \n",
    "        list_distance_individual_instance = []\n",
    "        \n",
    "        for j in range(len(x_train)):\n",
    "            \n",
    "            #calc euclidean distance\n",
    "            euclidean_distance = np.sqrt(np.sum(np.power(x_test[i] - x_train[j], 2)))\n",
    "            list_distance_individual_instance.append([euclidean_distance, y_train[j]])\n",
    "        \n",
    "        \n",
    "        #ordering distance values\n",
    "        list_distance_individual_instance.sort()\n",
    "        \n",
    "        #defining k neighbors \n",
    "        k_neighbors = list_distance_individual_instance[0:k]\n",
    "        k_neighbors = np.array(k_neighbors)\n",
    "        k_neighbors = list(k_neighbors[:, 1])\n",
    "        \n",
    "        #majoritary votation\n",
    "        classe = votation(k_neighbors)\n",
    "        classes_labels.append(classe)\n",
    "    return classes_labels          "
   ]
  },
  {
   "cell_type": "code",
   "execution_count": null,
   "metadata": {},
   "outputs": [],
   "source": [
    "x_train = data['values'][0:4].values\n",
    "y_train = data['labels'][0:4].values\n",
    "x_test = data['values'][4:].values\n",
    "y_test = data['labels'][4:].values\n",
    "\n",
    "classes = KNeighborsClassifier(x_train, y_train, x_test, y_test, 4)\n",
    "classes"
   ]
  }
 ],
 "metadata": {
  "kernelspec": {
   "display_name": "Python 3",
   "language": "python",
   "name": "python3"
  },
  "language_info": {
   "codemirror_mode": {
    "name": "ipython",
    "version": 3
   },
   "file_extension": ".py",
   "mimetype": "text/x-python",
   "name": "python",
   "nbconvert_exporter": "python",
   "pygments_lexer": "ipython3",
   "version": "3.7.4"
  }
 },
 "nbformat": 4,
 "nbformat_minor": 2
}
